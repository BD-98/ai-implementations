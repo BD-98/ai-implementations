{
 "cells": [
  {
   "cell_type": "code",
   "execution_count": 65,
   "metadata": {},
   "outputs": [],
   "source": [
    "# Load Data \n",
    "%matplotlib inline\n",
    "import torchvision\n",
    "import torch \n",
    "\n",
    "device = torch.device(\"cuda\" if torch.cuda.is_available() else \"cpu\")\n",
    "mnist_dataset = torchvision.datasets.MNIST(\"data/\", download=True, transform=torchvision.transforms.ToTensor())\n",
    "data_loader = torch.utils.data.DataLoader(mnist_dataset, shuffle=True, batch_size=16)\n",
    "x, y = next(iter(data_loader))"
   ]
  },
  {
   "cell_type": "code",
   "execution_count": 68,
   "metadata": {},
   "outputs": [],
   "source": [
    "# Pytorch MNIST Model \n",
    "\n",
    "import torch.nn as nn \n",
    "import torch.nn.functional as F \n",
    "import torch \n",
    "\n",
    "class EasyNet(nn.Module):\n",
    "    def __init__(self):\n",
    "        super().__init__()\n",
    "        self.l1 = nn.Linear(784, 128)\n",
    "        self.l2 = nn.Linear(128,10)\n",
    "    \n",
    "    def forward(self, x):\n",
    "        x = self.l1(x)\n",
    "        x = F.relu(x)\n",
    "        x = self.l2(x)\n",
    "        return x \n",
    "\n",
    "easynet = EasyNet().to(device)\n",
    "optimizer = torch.optim.Adam(easynet.parameters())\n",
    "loss_function = nn.CrossEntropyLoss()\n"
   ]
  },
  {
   "cell_type": "code",
   "execution_count": 74,
   "metadata": {},
   "outputs": [
    {
     "name": "stderr",
     "output_type": "stream",
     "text": [
      "Accuracy = 100.00% loss = 0.01: 100%|██████████| 1/1 [00:08<00:00,  8.28s/it]\n"
     ]
    }
   ],
   "source": [
    "# Training\n",
    "\n",
    "\n",
    "from tqdm import trange\n",
    "\n",
    "epochs = 1\n",
    "\n",
    "for _ in (t := trange(epochs)):\n",
    "    for x, y in data_loader:\n",
    "        x = x.to(device).view(-1, 28*28)\n",
    "        y = y.to(device)\n",
    "        \n",
    "        # forward pass \n",
    "        optimizer.zero_grad()\n",
    "        output = easynet(x)\n",
    "        loss = loss_function(output, y)\n",
    "\n",
    "        # update weights and backward pass \n",
    "     \n",
    "        loss.backward()\n",
    "        optimizer.step()\n",
    "\n",
    "        # Model Accuracy\n",
    "        n_correct_outputs = torch.argmax(output, dim=1) \n",
    "        acc = (n_correct_outputs == y).float().mean() * 100\n",
    "        t.set_description(f\"Accuracy = {acc.item():.2f}% loss = {loss.item():.2f}\")\n",
    "        \n",
    "\n"
   ]
  }
 ],
 "metadata": {
  "kernelspec": {
   "display_name": "Python 3.11.0 64-bit",
   "language": "python",
   "name": "python3"
  },
  "language_info": {
   "codemirror_mode": {
    "name": "ipython",
    "version": 3
   },
   "file_extension": ".py",
   "mimetype": "text/x-python",
   "name": "python",
   "nbconvert_exporter": "python",
   "pygments_lexer": "ipython3",
   "version": "3.11.0"
  },
  "orig_nbformat": 4,
  "vscode": {
   "interpreter": {
    "hash": "e7370f93d1d0cde622a1f8e1c04877d8463912d04d973331ad4851f04de6915a"
   }
  }
 },
 "nbformat": 4,
 "nbformat_minor": 2
}
